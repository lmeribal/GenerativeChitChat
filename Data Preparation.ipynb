{
 "cells": [
  {
   "cell_type": "markdown",
   "id": "e32ffc9a",
   "metadata": {},
   "source": [
    "# Data preparation\n",
    "1. Trash cleaning\n",
    "2. Deduplication"
   ]
  },
  {
   "cell_type": "code",
   "execution_count": 1,
   "id": "60b89f05",
   "metadata": {},
   "outputs": [],
   "source": [
    "import re\n",
    "\n",
    "def format_string(string: str) -> str:\n",
    "    string = string.strip()\n",
    "    if len(string) >= 2 and string[-1] == \".\" and string[-2] != \".\" or string[-1] == '/':\n",
    "        string = string[:-1]\n",
    "        string = string.strip()\n",
    "    string = re.sub(r\"[ ]+(?=(\\.|\\?|\\!|,))\", \"\", string)\n",
    "    string = re.sub(r\"(\\.){4,}\", \"...\", string)\n",
    "    string = re.sub(r\"[ ]{2,}\", \" \", string)\n",
    "    string = re.sub(r\"(?<=\\\\w)\\\\.\\\\.(?=(\\b|$| ))\", \"...\", string)\n",
    "    string = re.sub(r\"\\.(?=(\\?|\\!|\\)))\", \"\", string)\n",
    "    string = re.sub(r\"(?<=(\\?|\\!))( |\\.)\", \"\", string)\n",
    "    string = re.sub(r\"(?<=\\w(\\.|\\?|\\!))(?=\\w)\", \" \", string)\n",
    "    return string"
   ]
  },
  {
   "cell_type": "code",
   "execution_count": 2,
   "id": "8e82824a",
   "metadata": {},
   "outputs": [],
   "source": [
    "import pandas as pd\n",
    "\n",
    "txt_df = pd.read_csv('data/train.txt', sep='\\t', names=['question', 'answer'])\n",
    "txt_df = txt_df[~txt_df['question'].str.len() < 15]\n",
    "\n",
    "txt_df = txt_df[~txt_df['question'].isna()]\n",
    "txt_df = txt_df[~txt_df['answer'].isna()]"
   ]
  },
  {
   "cell_type": "code",
   "execution_count": 3,
   "id": "0b443f89",
   "metadata": {
    "scrolled": true
   },
   "outputs": [
    {
     "name": "stdout",
     "output_type": "stream",
     "text": [
      "CPU times: user 21.3 s, sys: 1.5 s, total: 22.8 s\n",
      "Wall time: 22.9 s\n"
     ]
    }
   ],
   "source": [
    "%%time\n",
    "import json\n",
    "\n",
    "json_data = []\n",
    "with open('data/qa_data.jsonl') as f:\n",
    "    for line in f:\n",
    "        json_data.append(json.loads(line))"
   ]
  },
  {
   "cell_type": "code",
   "execution_count": 18,
   "id": "1054250c",
   "metadata": {},
   "outputs": [
    {
     "name": "stdout",
     "output_type": "stream",
     "text": [
      "CPU times: user 8.73 s, sys: 314 ms, total: 9.04 s\n",
      "Wall time: 9.08 s\n"
     ]
    }
   ],
   "source": [
    "%%time\n",
    "json_df = pd.DataFrame(json_data)\n",
    "json_df = json_df[~json_df['question'].str.len() < 15]\n",
    "# json_df = json_df.explode('responses')\n",
    "json_df = json_df.groupby('question', as_index=False).head(1)\n",
    "\n",
    "json_df = json_df[json_df['responses'].str.len() > 0]\n",
    "\n",
    "json_df['responses'] = json_df['responses'].apply(lambda x: x[0])\n",
    "\n",
    "json_df = json_df[~json_df['responses'].isna()]\n",
    "json_df = json_df[~json_df['question'].isna()]"
   ]
  },
  {
   "cell_type": "code",
   "execution_count": 19,
   "id": "3a0475fe",
   "metadata": {},
   "outputs": [],
   "source": [
    "from tqdm.auto import tqdm\n",
    "\n",
    "tqdm.pandas()"
   ]
  },
  {
   "cell_type": "code",
   "execution_count": 20,
   "id": "4ff63ae8",
   "metadata": {},
   "outputs": [
    {
     "data": {
      "application/vnd.jupyter.widget-view+json": {
       "model_id": "7706fbae9aa24f8da9dafb726a75932e",
       "version_major": 2,
       "version_minor": 0
      },
      "text/plain": [
       "  0%|          | 0/710162 [00:00<?, ?it/s]"
      ]
     },
     "metadata": {},
     "output_type": "display_data"
    },
    {
     "data": {
      "application/vnd.jupyter.widget-view+json": {
       "model_id": "26c008c5789e4e4cb79b9febed3ac44e",
       "version_major": 2,
       "version_minor": 0
      },
      "text/plain": [
       "  0%|          | 0/710162 [00:00<?, ?it/s]"
      ]
     },
     "metadata": {},
     "output_type": "display_data"
    }
   ],
   "source": [
    "json_df['question'] = json_df['question'].progress_apply(lambda x: format_string(x))\n",
    "json_df['responses'] = json_df['responses'].progress_apply(lambda x: format_string(x))"
   ]
  },
  {
   "cell_type": "code",
   "execution_count": 21,
   "id": "62e426cb",
   "metadata": {},
   "outputs": [
    {
     "data": {
      "application/vnd.jupyter.widget-view+json": {
       "model_id": "dfff8d694b99459db95be3e83b0f8083",
       "version_major": 2,
       "version_minor": 0
      },
      "text/plain": [
       "  0%|          | 0/5880497 [00:00<?, ?it/s]"
      ]
     },
     "metadata": {},
     "output_type": "display_data"
    },
    {
     "data": {
      "application/vnd.jupyter.widget-view+json": {
       "model_id": "2599faef559947af9f265695169ca394",
       "version_major": 2,
       "version_minor": 0
      },
      "text/plain": [
       "  0%|          | 0/5880497 [00:00<?, ?it/s]"
      ]
     },
     "metadata": {},
     "output_type": "display_data"
    }
   ],
   "source": [
    "txt_df['question'] = txt_df['question'].progress_apply(lambda x: format_string(x))\n",
    "txt_df['answer'] = txt_df['answer'].progress_apply(lambda x: format_string(x))"
   ]
  },
  {
   "cell_type": "code",
   "execution_count": 22,
   "id": "f23cb541",
   "metadata": {},
   "outputs": [],
   "source": [
    "txt_df = txt_df[txt_df['question'].str.len() < 60]\n",
    "txt_df = txt_df[txt_df['answer'].str.len() < 60]\n",
    "json_df = json_df[json_df['question'].str.len() < 60]\n",
    "json_df = json_df[json_df['responses'].str.len() < 60]"
   ]
  },
  {
   "cell_type": "code",
   "execution_count": 23,
   "id": "49f345be",
   "metadata": {},
   "outputs": [
    {
     "data": {
      "application/vnd.jupyter.widget-view+json": {
       "model_id": "d59c634f70ad436bbbed5a0e1116cc13",
       "version_major": 2,
       "version_minor": 0
      },
      "text/plain": [
       "  0%|          | 0/5173187 [00:00<?, ?it/s]"
      ]
     },
     "metadata": {},
     "output_type": "display_data"
    },
    {
     "data": {
      "application/vnd.jupyter.widget-view+json": {
       "model_id": "194e9e1cfee74e1bb69ef7dd9e571f83",
       "version_major": 2,
       "version_minor": 0
      },
      "text/plain": [
       "  0%|          | 0/5173187 [00:00<?, ?it/s]"
      ]
     },
     "metadata": {},
     "output_type": "display_data"
    },
    {
     "data": {
      "application/vnd.jupyter.widget-view+json": {
       "model_id": "70cc7b50c73446f3874bde146da513c4",
       "version_major": 2,
       "version_minor": 0
      },
      "text/plain": [
       "  0%|          | 0/258247 [00:00<?, ?it/s]"
      ]
     },
     "metadata": {},
     "output_type": "display_data"
    },
    {
     "data": {
      "application/vnd.jupyter.widget-view+json": {
       "model_id": "a1955eae0c694123b0b80d97aa28453f",
       "version_major": 2,
       "version_minor": 0
      },
      "text/plain": [
       "  0%|          | 0/258247 [00:00<?, ?it/s]"
      ]
     },
     "metadata": {},
     "output_type": "display_data"
    }
   ],
   "source": [
    "def up_first_letter(string):\n",
    "    if string[0].isalpha():\n",
    "        return string[0].upper() + string[1:]\n",
    "    return string\n",
    "\n",
    "txt_df['question'] = txt_df['question'].progress_apply(up_first_letter)\n",
    "txt_df['answer'] = txt_df['answer'].progress_apply(up_first_letter)\n",
    "json_df['question'] = json_df['question'].progress_apply(up_first_letter)\n",
    "json_df['responses'] = json_df['responses'].progress_apply(up_first_letter)"
   ]
  },
  {
   "cell_type": "code",
   "execution_count": 24,
   "id": "a28f776b",
   "metadata": {},
   "outputs": [],
   "source": [
    "json_df = json_df[~json_df['responses'].isna()]\n",
    "json_df = json_df[~json_df['question'].isna()]\n",
    "txt_df = txt_df[~txt_df['question'].isna()]\n",
    "txt_df = txt_df[~txt_df['answer'].isna()]"
   ]
  },
  {
   "cell_type": "code",
   "execution_count": 25,
   "id": "94522fe8",
   "metadata": {},
   "outputs": [],
   "source": [
    "json_df.columns = ['question', 'category', 'answer']\n",
    "total = pd.concat([json_df[['question', 'answer']], txt_df[['question', 'answer']]])"
   ]
  },
  {
   "cell_type": "code",
   "execution_count": 26,
   "id": "71799b3a",
   "metadata": {},
   "outputs": [],
   "source": [
    "from collections import Counter\n",
    "\n",
    "c = Counter(total['question'])\n",
    "trash = [el[0] for el in c.most_common()[:30]]"
   ]
  },
  {
   "cell_type": "code",
   "execution_count": 40,
   "id": "b6f1ce69",
   "metadata": {},
   "outputs": [
    {
     "data": {
      "application/vnd.jupyter.widget-view+json": {
       "model_id": "1e32ad0aea6844709350776b939480a7",
       "version_major": 2,
       "version_minor": 0
      },
      "text/plain": [
       "  0%|          | 0/5347698 [00:00<?, ?it/s]"
      ]
     },
     "metadata": {},
     "output_type": "display_data"
    },
    {
     "data": {
      "application/vnd.jupyter.widget-view+json": {
       "model_id": "48e29ff8eec341ddb572420c2e38d5b7",
       "version_major": 2,
       "version_minor": 0
      },
      "text/plain": [
       "  0%|          | 0/5317929 [00:00<?, ?it/s]"
      ]
     },
     "metadata": {},
     "output_type": "display_data"
    }
   ],
   "source": [
    "emoj = re.compile(\"[\"\n",
    "        u\"\\U0001F600-\\U0001F64F\"  # emoticons\n",
    "        u\"\\U0001F300-\\U0001F5FF\"  # symbols & pictographs\n",
    "        u\"\\U0001F680-\\U0001F6FF\"  # transport & map symbols\n",
    "        u\"\\U0001F1E0-\\U0001F1FF\"  # flags (iOS)\n",
    "        u\"\\U00002500-\\U00002BEF\"  # chinese char\n",
    "        u\"\\U00002702-\\U000027B0\"\n",
    "        u\"\\U00002702-\\U000027B0\"\n",
    "        u\"\\U000024C2-\\U0001F251\"\n",
    "        u\"\\U0001f926-\\U0001f937\"\n",
    "        u\"\\U00010000-\\U0010ffff\"\n",
    "        u\"\\u4e00-\\u9fff\"\n",
    "        u\"\\u2640-\\u2642\" \n",
    "        u\"\\u2600-\\u2B55\"\n",
    "        u\"\\u200d\"\n",
    "        u\"\\u23cf\"\n",
    "        u\"\\u23e9\"\n",
    "        u\"\\u231a\"\n",
    "        u\"\\ufe0f\"  \n",
    "        u\"\\u3030\"\n",
    "                      \"]+\", re.UNICODE)\n",
    "\n",
    "def has_trash(text):\n",
    "    if re.search(emoj, text):\n",
    "        return True\n",
    "    if re.search(r\"\"\"[^А-яё\\d\\s:\\?\\!:;'\"\\.\\,\\\\\\/\\)\\(\\]\\[-–-_]\"\"\", text):\n",
    "        return True\n",
    "    return False\n",
    "\n",
    "total = total[~total['question'].progress_apply(has_trash)]\n",
    "total = total[~total['answer'].progress_apply(has_trash)]"
   ]
  },
  {
   "cell_type": "code",
   "execution_count": 41,
   "id": "1db579a6",
   "metadata": {},
   "outputs": [],
   "source": [
    "# total.to_csv('data/seq2seq_data.csv', index=False, sep='\\t')"
   ]
  },
  {
   "cell_type": "code",
   "execution_count": 42,
   "id": "e7cb8d4e",
   "metadata": {},
   "outputs": [],
   "source": [
    "%%time\n",
    "total.to_csv('data/seq2seq_data.zip', index=False, sep='\\t', compression='gzip')"
   ]
  },
  {
   "cell_type": "code",
   "execution_count": null,
   "id": "1f96bb71",
   "metadata": {},
   "outputs": [],
   "source": [
    "ंहხგ"
   ]
  },
  {
   "cell_type": "code",
   "execution_count": 44,
   "id": "285a440c",
   "metadata": {},
   "outputs": [
    {
     "data": {
      "text/html": [
       "<div>\n",
       "<style scoped>\n",
       "    .dataframe tbody tr th:only-of-type {\n",
       "        vertical-align: middle;\n",
       "    }\n",
       "\n",
       "    .dataframe tbody tr th {\n",
       "        vertical-align: top;\n",
       "    }\n",
       "\n",
       "    .dataframe thead th {\n",
       "        text-align: right;\n",
       "    }\n",
       "</style>\n",
       "<table border=\"1\" class=\"dataframe\">\n",
       "  <thead>\n",
       "    <tr style=\"text-align: right;\">\n",
       "      <th></th>\n",
       "      <th>question</th>\n",
       "      <th>answer</th>\n",
       "    </tr>\n",
       "  </thead>\n",
       "  <tbody>\n",
       "  </tbody>\n",
       "</table>\n",
       "</div>"
      ],
      "text/plain": [
       "Empty DataFrame\n",
       "Columns: [question, answer]\n",
       "Index: []"
      ]
     },
     "execution_count": 44,
     "metadata": {},
     "output_type": "execute_result"
    }
   ],
   "source": [
    "total[total['question'].str.contains('ं')]"
   ]
  },
  {
   "cell_type": "code",
   "execution_count": 45,
   "id": "6f00161d",
   "metadata": {},
   "outputs": [
    {
     "data": {
      "text/html": [
       "<div>\n",
       "<style scoped>\n",
       "    .dataframe tbody tr th:only-of-type {\n",
       "        vertical-align: middle;\n",
       "    }\n",
       "\n",
       "    .dataframe tbody tr th {\n",
       "        vertical-align: top;\n",
       "    }\n",
       "\n",
       "    .dataframe thead th {\n",
       "        text-align: right;\n",
       "    }\n",
       "</style>\n",
       "<table border=\"1\" class=\"dataframe\">\n",
       "  <thead>\n",
       "    <tr style=\"text-align: right;\">\n",
       "      <th></th>\n",
       "      <th>question</th>\n",
       "      <th>answer</th>\n",
       "    </tr>\n",
       "  </thead>\n",
       "  <tbody>\n",
       "    <tr>\n",
       "      <th>3325292</th>\n",
       "      <td>Что в голове у умной женщины?</td>\n",
       "      <td>त्वां राम कामयामि - вот это</td>\n",
       "    </tr>\n",
       "    <tr>\n",
       "      <th>3364087</th>\n",
       "      <td>Как будет по-бенгальски \"я тебя люблю\"?</td>\n",
       "      <td>Вот так - संस्कृतम्</td>\n",
       "    </tr>\n",
       "    <tr>\n",
       "      <th>3835724</th>\n",
       "      <td>На каком языке я тебя люблю звучит особенно кр...</td>\n",
       "      <td>मैं तुमसे प्यार करता हूँ (хинди)</td>\n",
       "    </tr>\n",
       "  </tbody>\n",
       "</table>\n",
       "</div>"
      ],
      "text/plain": [
       "                                                  question  \\\n",
       "3325292                      Что в голове у умной женщины?   \n",
       "3364087            Как будет по-бенгальски \"я тебя люблю\"?   \n",
       "3835724  На каком языке я тебя люблю звучит особенно кр...   \n",
       "\n",
       "                                   answer  \n",
       "3325292       त्वां राम कामयामि - вот это  \n",
       "3364087               Вот так - संस्कृतम्  \n",
       "3835724  मैं तुमसे प्यार करता हूँ (хинди)  "
      ]
     },
     "execution_count": 45,
     "metadata": {},
     "output_type": "execute_result"
    }
   ],
   "source": [
    "total[total['answer'].str.contains('ं')]"
   ]
  },
  {
   "cell_type": "code",
   "execution_count": 50,
   "id": "3db70946",
   "metadata": {},
   "outputs": [],
   "source": [
    "re.search(r\"\"\"[^А-яё\\d\\s:\\?\\!:;'\"\\.\\,\\\\\\/\\)\\(\\]\\[-–-_]\"\"\", 'मैं तुमसे प्यार करता हूँ (хинди)')"
   ]
  },
  {
   "cell_type": "code",
   "execution_count": null,
   "id": "ec730c90",
   "metadata": {},
   "outputs": [],
   "source": [
    "def has_trash(text):\n",
    "    if re.search(emoj, text):\n",
    "        return True\n",
    "    if re.search(r\"\"\"[^А-яё\\d\\s:\\?\\!:;'\"\\.\\,\\\\\\/\\)\\(\\]\\[-–-_]\"\"\", text):\n",
    "        return True\n",
    "    return False\n",
    "\n",
    "total = total[~total['question'].progress_apply(has_trash)]"
   ]
  },
  {
   "cell_type": "code",
   "execution_count": null,
   "id": "22dd2f4a",
   "metadata": {},
   "outputs": [],
   "source": [
    "total = total[~total['answer'].progress_apply(has_trash)]"
   ]
  },
  {
   "cell_type": "code",
   "execution_count": 51,
   "id": "4b85187b",
   "metadata": {},
   "outputs": [
    {
     "data": {
      "text/html": [
       "<div>\n",
       "<style scoped>\n",
       "    .dataframe tbody tr th:only-of-type {\n",
       "        vertical-align: middle;\n",
       "    }\n",
       "\n",
       "    .dataframe tbody tr th {\n",
       "        vertical-align: top;\n",
       "    }\n",
       "\n",
       "    .dataframe thead th {\n",
       "        text-align: right;\n",
       "    }\n",
       "</style>\n",
       "<table border=\"1\" class=\"dataframe\">\n",
       "  <thead>\n",
       "    <tr style=\"text-align: right;\">\n",
       "      <th></th>\n",
       "      <th>question</th>\n",
       "      <th>answer</th>\n",
       "    </tr>\n",
       "  </thead>\n",
       "  <tbody>\n",
       "    <tr>\n",
       "      <th>0</th>\n",
       "      <td>Долго ли идут деньги с яндексденег на карту visa?</td>\n",
       "      <td>Нет. прорыв 35 ;)</td>\n",
       "    </tr>\n",
       "    <tr>\n",
       "      <th>3</th>\n",
       "      <td>В чем отличие медитации от йоги?</td>\n",
       "      <td>Букв в йоге меньше</td>\n",
       "    </tr>\n",
       "    <tr>\n",
       "      <th>4</th>\n",
       "      <td>Когда начнут линейку фильмов про лигу чемпионов?</td>\n",
       "      <td>А не фильм? жалко... а я то думал - хорошая ко...</td>\n",
       "    </tr>\n",
       "    <tr>\n",
       "      <th>5</th>\n",
       "      <td>А цветы нуждаются в оценке проходящего мимо?)</td>\n",
       "      <td>Только для этого и растут</td>\n",
       "    </tr>\n",
       "    <tr>\n",
       "      <th>6</th>\n",
       "      <td>Что это значит?</td>\n",
       "      <td>Грива наверное растёт)))</td>\n",
       "    </tr>\n",
       "    <tr>\n",
       "      <th>...</th>\n",
       "      <td>...</td>\n",
       "      <td>...</td>\n",
       "    </tr>\n",
       "    <tr>\n",
       "      <th>5880492</th>\n",
       "      <td>Как вы заманили мужчину? ваш сикрет?</td>\n",
       "      <td>Он сам пришёл - добровольно)</td>\n",
       "    </tr>\n",
       "    <tr>\n",
       "      <th>5880493</th>\n",
       "      <td>Что может быть пиком эмоционального напряжения...</td>\n",
       "      <td>Поход в горы, вернее обратно</td>\n",
       "    </tr>\n",
       "    <tr>\n",
       "      <th>5880494</th>\n",
       "      <td>Каким законом мы должны жить чтобы бог был дов...</td>\n",
       "      <td>Так его же и законами. вы что не знали?</td>\n",
       "    </tr>\n",
       "    <tr>\n",
       "      <th>5880495</th>\n",
       "      <td>А. ты много. фаетазируешь?:):):)</td>\n",
       "      <td>Много и даже претворяю фантазии в жизнь)</td>\n",
       "    </tr>\n",
       "    <tr>\n",
       "      <th>5880496</th>\n",
       "      <td>Верите ли в любовь с первого взгляда?</td>\n",
       "      <td>Да - ето чувство которое не передать словами!</td>\n",
       "    </tr>\n",
       "  </tbody>\n",
       "</table>\n",
       "<p>5154499 rows × 2 columns</p>\n",
       "</div>"
      ],
      "text/plain": [
       "                                                  question  \\\n",
       "0        Долго ли идут деньги с яндексденег на карту visa?   \n",
       "3                         В чем отличие медитации от йоги?   \n",
       "4         Когда начнут линейку фильмов про лигу чемпионов?   \n",
       "5            А цветы нуждаются в оценке проходящего мимо?)   \n",
       "6                                          Что это значит?   \n",
       "...                                                    ...   \n",
       "5880492               Как вы заманили мужчину? ваш сикрет?   \n",
       "5880493  Что может быть пиком эмоционального напряжения...   \n",
       "5880494  Каким законом мы должны жить чтобы бог был дов...   \n",
       "5880495                   А. ты много. фаетазируешь?:):):)   \n",
       "5880496              Верите ли в любовь с первого взгляда?   \n",
       "\n",
       "                                                    answer  \n",
       "0                                        Нет. прорыв 35 ;)  \n",
       "3                                       Букв в йоге меньше  \n",
       "4        А не фильм? жалко... а я то думал - хорошая ко...  \n",
       "5                                Только для этого и растут  \n",
       "6                                 Грива наверное растёт)))  \n",
       "...                                                    ...  \n",
       "5880492                       Он сам пришёл - добровольно)  \n",
       "5880493                       Поход в горы, вернее обратно  \n",
       "5880494            Так его же и законами. вы что не знали?  \n",
       "5880495           Много и даже претворяю фантазии в жизнь)  \n",
       "5880496      Да - ето чувство которое не передать словами!  \n",
       "\n",
       "[5154499 rows x 2 columns]"
      ]
     },
     "execution_count": 51,
     "metadata": {},
     "output_type": "execute_result"
    }
   ],
   "source": [
    "total"
   ]
  },
  {
   "cell_type": "code",
   "execution_count": null,
   "id": "706fc889",
   "metadata": {},
   "outputs": [],
   "source": []
  }
 ],
 "metadata": {
  "kernelspec": {
   "display_name": "Python 3",
   "language": "python",
   "name": "python3"
  },
  "language_info": {
   "codemirror_mode": {
    "name": "ipython",
    "version": 3
   },
   "file_extension": ".py",
   "mimetype": "text/x-python",
   "name": "python",
   "nbconvert_exporter": "python",
   "pygments_lexer": "ipython3",
   "version": "3.8.8"
  }
 },
 "nbformat": 4,
 "nbformat_minor": 5
}
