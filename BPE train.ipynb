{
 "cells": [
  {
   "cell_type": "code",
   "execution_count": 5,
   "id": "141a8335",
   "metadata": {},
   "outputs": [],
   "source": [
    "import pandas as pd\n",
    "\n",
    "df = pd.read_csv('data/seq2seq_data.zip', sep='\\t', compression='gzip')"
   ]
  },
  {
   "cell_type": "code",
   "execution_count": 6,
   "id": "eb66afc0",
   "metadata": {},
   "outputs": [],
   "source": [
    "# df = df[~df['answer'].isna()]\n",
    "# df = df[~df['question'].isna()]"
   ]
  },
  {
   "cell_type": "code",
   "execution_count": 7,
   "id": "a32b5a44",
   "metadata": {},
   "outputs": [],
   "source": [
    "with open('for_bpe.txt', 'w', encoding='utf-8') as f:\n",
    "    for que in df['question']:\n",
    "        f.write(que + '\\n')\n",
    "    for ans in df['answer']:\n",
    "        f.write(ans + '\\n')\n",
    "        \n",
    "# параметры\n",
    "vocab_size = 30_000\n",
    "model_path = 'pretrained_bpe_lm.model'"
   ]
  },
  {
   "cell_type": "code",
   "execution_count": 8,
   "id": "da167b5a",
   "metadata": {},
   "outputs": [
    {
     "name": "stderr",
     "output_type": "stream",
     "text": [
      "Training parameters\n",
      "  input: for_bpe.txt\n",
      "  model: pretrained_bpe_lm.model\n",
      "  vocab_size: 30000\n",
      "  n_threads: 8\n",
      "  character_coverage: 1\n",
      "  pad: 0\n",
      "  unk: 1\n",
      "  bos: 2\n",
      "  eos: 3\n",
      "\n",
      "reading file...\n",
      "learning bpe...\n",
      "number of unique characters in the training data: 549\n",
      "number of deleted characters: 0\n",
      "number of unique characters left: 549\n",
      "id: 1000=675+573              freq: 80997       subword: ▁всего=▁все+го\n",
      "id: 2000=867+25               freq: 18341       subword: ться?=ться+?\n",
      "id: 3000=1828+32              freq: 9444        subword: скую=ску+ю\n",
      "id: 4000=1054+1554            freq: 6075        subword: ческая=чес+кая\n",
      "id: 5000=594+41               freq: 4354        subword: ниц=ни+ц\n",
      "id: 6000=598+8                freq: 3330        subword: вот=во+т\n",
      "id: 7000=1827+1643            freq: 2664        subword: ▁одежду=▁оде+жду\n",
      "id: 8000=645+617              freq: 2202        subword: ▁это?)=▁это+?)\n",
      "id: 9000=2154+2594            freq: 1864        subwo"
     ]
    },
    {
     "data": {
      "text/plain": [
       "<youtokentome.youtokentome.BPE at 0x7fae911cc160>"
      ]
     },
     "execution_count": 8,
     "metadata": {},
     "output_type": "execute_result"
    }
   ],
   "source": [
    "import youtokentome as yttm\n",
    "\n",
    "yttm.BPE.train(data='for_bpe.txt', vocab_size=vocab_size, model=model_path)"
   ]
  },
  {
   "cell_type": "code",
   "execution_count": 9,
   "id": "837c5f77",
   "metadata": {},
   "outputs": [
    {
     "ename": "NameError",
     "evalue": "name 'total' is not defined",
     "output_type": "error",
     "traceback": [
      "\u001b[0;31m---------------------------------------------------------------------------\u001b[0m",
      "\u001b[0;31mNameError\u001b[0m                                 Traceback (most recent call last)",
      "Input \u001b[0;32mIn [9]\u001b[0m, in \u001b[0;36m<module>\u001b[0;34m\u001b[0m\n\u001b[0;32m----> 1\u001b[0m \u001b[43mtotal\u001b[49m\n",
      "\u001b[0;31mNameError\u001b[0m: name 'total' is not defined"
     ]
    }
   ],
   "source": []
  },
  {
   "cell_type": "code",
   "execution_count": null,
   "id": "01558def",
   "metadata": {},
   "outputs": [],
   "source": []
  }
 ],
 "metadata": {
  "kernelspec": {
   "display_name": "Python 3",
   "language": "python",
   "name": "python3"
  },
  "language_info": {
   "codemirror_mode": {
    "name": "ipython",
    "version": 3
   },
   "file_extension": ".py",
   "mimetype": "text/x-python",
   "name": "python",
   "nbconvert_exporter": "python",
   "pygments_lexer": "ipython3",
   "version": "3.8.8"
  }
 },
 "nbformat": 4,
 "nbformat_minor": 5
}
